{
 "cells": [
  {
   "cell_type": "markdown",
   "metadata": {},
   "source": [
    "### Авторский код"
   ]
  },
  {
   "cell_type": "code",
   "execution_count": 5,
   "metadata": {},
   "outputs": [
    {
     "name": "stdout",
     "output_type": "stream",
     "text": [
      "Алгоритм автора угадывает число в среднем за 33 попыток\n"
     ]
    },
    {
     "data": {
      "text/plain": [
       "33"
      ]
     },
     "execution_count": 5,
     "metadata": {},
     "output_type": "execute_result"
    }
   ],
   "source": [
    "import numpy as np\n",
    "\n",
    "#Авторское \"ядро\" угадывания числа, сравнивающая загаданное число с предполагаемым\n",
    "def game_core_v2(number):\n",
    "    count = 1\n",
    "    predict = np.random.randint(1,101)\n",
    "    while number != predict:\n",
    "        count +=1\n",
    "        if number > predict:\n",
    "            predict +=1\n",
    "        elif number < predict:\n",
    "            predict -=1\n",
    "    return(count)\n",
    "        \n",
    "#Функция прогона \"ядра угадывания числа\" по 1000 рандомным числам\n",
    "def score_game_old(game_core):\n",
    "    '''Запускаем игру 1000 раз, чтобы узнать, как быстро игра угадывает число'''\n",
    "    count_ls = []\n",
    "    np.random.seed(1) #фиксируем RANDOM SEED, чтобы эксперимент был воспроизводим!\n",
    "    random_array = np.random.randint(1,101, size = (1000))\n",
    "    for number in random_array:\n",
    "        count_ls.append(game_core(number))\n",
    "    score = int(np.mean(count_ls))\n",
    "    print(f\"Алгоритм автора угадывает число в среднем за {score} попыток\")\n",
    "    return(score)\n",
    "\n",
    "#Запуск\n",
    "score_game_old(game_core_v2)"
   ]
  },
  {
   "cell_type": "markdown",
   "metadata": {},
   "source": [
    "### Мой код"
   ]
  },
  {
   "cell_type": "code",
   "execution_count": 40,
   "metadata": {},
   "outputs": [
    {
     "name": "stdout",
     "output_type": "stream",
     "text": [
      "Мой алгоритм угадывает число в среднем за 5 попыток\n"
     ]
    },
    {
     "data": {
      "text/plain": [
       "5"
      ]
     },
     "execution_count": 40,
     "metadata": {},
     "output_type": "execute_result"
    }
   ],
   "source": [
    "import numpy as np\n",
    "import math\n",
    "\n",
    "#Функция прогона \"ядра угадывания числа\" по 1000 рандомным числам\n",
    "def score_game(game_core):\n",
    "    '''Добавляем пределы, в рамках которых надо угадать число, \n",
    "    что позволит обобщить задачу на любой диапазон'''\n",
    "    min_val=1\n",
    "    max_val=101\n",
    "    \n",
    "    '''Запускаем игру 1000 раз, чтобы узнать, как быстро написанное ядро угадывает число'''\n",
    "    count_ls = []\n",
    "    np.random.seed(1) #фиксируем RANDOM SEED, чтобы эксперимент был воспроизводим!\n",
    "    random_array = np.random.randint(min_val, max_val, size = (1000))\n",
    "    \n",
    "    for number in random_array:\n",
    "        count_ls.append(game_core(number, min_val, max_val))\n",
    "    score = int(np.mean(count_ls))\n",
    "    print(f\"Мой алгоритм угадывает число в среднем за {score} попыток\")\n",
    "    return(score)\n",
    "\n",
    "'''Попробуем уменьшить число попыток, требуемых для угадывания, путём отсечения диапазона вдвое'''\n",
    "def my_game_core(number, min_val, max_val):\n",
    "    #В качестве первого числа, возьмём среднее из диапазона, в котором надо предсказать\n",
    "    predict = int((max_val-min_val)/2)\n",
    "    count = 1\n",
    "\n",
    "    while predict != number:\n",
    "        if predict > number:\n",
    "            '''Так как загаданное число меньше предсказания, отсекаем верхнюю границу по предсказанию'''\n",
    "            max_val = predict \n",
    "            '''Новое предсказание получается путём уменьшения старого \n",
    "            на половину оставшегося диапазона, в котором находится число'''            \n",
    "            predict -= math.ceil((predict-min_val)/2) \n",
    "        \n",
    "        elif predict < number:\n",
    "            '''Так как загаданное число больше предсказания, \n",
    "            отсекаем нижнюю границу по предсказанию'''            \n",
    "            min_val = predict\n",
    "            '''Новое предсказание получается путём увеличения старого \n",
    "            на половину оставшегося диапазона, в котором находится число'''            \n",
    "            predict += math.ceil((max_val-predict)/2)\n",
    "        else: \n",
    "            print('Невозможный вариант')\n",
    "        count +=1\n",
    "    return count\n",
    "\n",
    "#Запуск\n",
    "score_game(my_game_core)"
   ]
  },
  {
   "cell_type": "code",
   "execution_count": null,
   "metadata": {},
   "outputs": [],
   "source": []
  }
 ],
 "metadata": {
  "kernelspec": {
   "display_name": "Python 3",
   "language": "python",
   "name": "python3"
  },
  "language_info": {
   "codemirror_mode": {
    "name": "ipython",
    "version": 3
   },
   "file_extension": ".py",
   "mimetype": "text/x-python",
   "name": "python",
   "nbconvert_exporter": "python",
   "pygments_lexer": "ipython3",
   "version": "3.7.6"
  }
 },
 "nbformat": 4,
 "nbformat_minor": 4
}
